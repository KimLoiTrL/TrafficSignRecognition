{
  "cells": [
    {
      "cell_type": "code",
      "execution_count": 2,
      "metadata": {
        "id": "BYpsbQqsLqKg"
      },
      "outputs": [],
      "source": [
        "import numpy as np \n",
        "import pandas as pd \n",
        "import matplotlib.pyplot as plt\n",
        "import cv2\n",
        "import tensorflow as tf\n",
        "from PIL import Image\n",
        "import os\n",
        "from sklearn.model_selection import train_test_split\n",
        "from keras.utils import to_categorical\n",
        "from keras.models import Sequential, load_model\n",
        "from keras.layers import Conv2D, MaxPool2D, Dense, Flatten, Dropout"
      ]
    },
    {
      "cell_type": "code",
      "execution_count": null,
      "metadata": {
        "id": "M_bPriOLMUiO"
      },
      "outputs": [],
      "source": [
        "data = []\n",
        "labels = []\n",
        "classes = 43\n",
        "cur_path = os.getcwd()"
      ]
    },
    {
      "cell_type": "code",
      "execution_count": null,
      "metadata": {
        "id": "s1hqBOU_MWZ-"
      },
      "outputs": [],
      "source": [
        "#Retrieving the images and their labels \n",
        "for i in range(classes):\n",
        "    path = os.path.join(cur_path,'Train',str(i))\n",
        "    images = os.listdir(path)\n",
        "\n",
        "    for a in images:\n",
        "        try:\n",
        "            image = Image.open(path + '\\\\'+ a)\n",
        "            image = image.resize((30,30))\n",
        "            image = np.array(image)\n",
        "            #sim = Image.fromarray(image)\n",
        "            data.append(image)\n",
        "            labels.append(i)\n",
        "        except:\n",
        "            print(\"Error loading image\")"
      ]
    },
    {
      "cell_type": "code",
      "execution_count": null,
      "metadata": {
        "id": "dNrol7g4MaqV"
      },
      "outputs": [],
      "source": [
        "#Converting lists into numpy arrays\n",
        "data = np.array(data)\n",
        "labels = np.array(labels)\n",
        "print(data.shape, labels.shape)"
      ]
    },
    {
      "cell_type": "code",
      "execution_count": null,
      "metadata": {
        "id": "jK3hUWWVMdFj"
      },
      "outputs": [],
      "source": [
        "#Splitting training and testing dataset\n",
        "X_train, X_test, y_train, y_test = train_test_split(data, labels, test_size=0.2, random_state=42)\n",
        "\n",
        "print(X_train.shape, X_test.shape, y_train.shape, y_test.shape)"
      ]
    },
    {
      "cell_type": "code",
      "execution_count": null,
      "metadata": {
        "id": "loCkgxpXMfAF"
      },
      "outputs": [],
      "source": [
        "#Converting the labels into one hot encoding\n",
        "y_train = to_categorical(y_train, 43)\n",
        "y_test = to_categorical(y_test, 43)"
      ]
    },
    {
      "cell_type": "code",
      "execution_count": null,
      "metadata": {
        "id": "zlQOo6gKMiHm"
      },
      "outputs": [],
      "source": [
        "#Building the model\n",
        "model = Sequential()\n",
        "model.add(Conv2D(filters=32, kernel_size=(5,5), activation='relu', input_shape=X_train.shape[1:]))\n",
        "model.add(Conv2D(filters=32, kernel_size=(5,5), activation='relu'))\n",
        "model.add(MaxPool2D(pool_size=(2, 2)))\n",
        "model.add(Dropout(rate=0.25))\n",
        "model.add(Conv2D(filters=64, kernel_size=(3, 3), activation='relu'))\n",
        "model.add(Conv2D(filters=64, kernel_size=(3, 3), activation='relu'))\n",
        "model.add(MaxPool2D(pool_size=(2, 2)))\n",
        "model.add(Dropout(rate=0.25))\n",
        "model.add(Flatten())\n",
        "model.add(Dense(256, activation='relu'))\n",
        "model.add(Dropout(rate=0.5))\n",
        "model.add(Dense(43, activation='softmax'))\n",
        "#model.add(tf.keras.layers.Dense(256, input_shape=(X_train.shape[1],), activation='sigmoid'))\n",
        "\n",
        "#Compilation of the model\n",
        "#model.compile(loss='categorical_crossentropy', optimizer='adam', metrics=['accuracy'])"
      ]
    },
    {
      "cell_type": "code",
      "execution_count": null,
      "metadata": {
        "id": "M4VzOex0Mkpq"
      },
      "outputs": [],
      "source": [
        "epochs = 15\n",
        "history = model.fit(X_train, y_train, batch_size=32, epochs=epochs, validation_data=(X_test, y_test))\n",
        "model.save(\"my_model.h5\")"
      ]
    },
    {
      "cell_type": "code",
      "execution_count": null,
      "metadata": {
        "id": "MoakMUe6MnXw"
      },
      "outputs": [],
      "source": [
        "from sklearn.metrics import accuracy_score\n",
        "\n",
        "y_test = pd.read_csv('Test.csv')\n",
        "\n",
        "labels = y_test[\"ClassId\"].values\n",
        "imgs = y_test[\"Path\"].values\n",
        "\n",
        "data=[]\n",
        "\n",
        "for img in imgs:\n",
        "    image = Image.open(img)\n",
        "    image = image.resize((30,30))\n",
        "    data.append(np.array(image))\n",
        "\n",
        "X_test=np.array(data)\n",
        "\n",
        "pred = model.predict(X_test)\n",
        "pred=np.argmax(pred,axis=0)\n",
        "\n",
        "#Accuracy with the test data\n",
        "from sklearn.metrics import accuracy_score\n",
        "print(accuracy_score(labels, pred))\n",
        "model.save('traffic_classifier.h5')"
      ]
    },
    {
      "cell_type": "code",
      "execution_count": 3,
      "metadata": {
        "id": "ts1tMC55M7a2"
      },
      "outputs": [],
      "source": [
        "from keras.models import load_model\n",
        "model = load_model('traffic_classifier.h5')\n",
        "\n",
        "#dictionary to label all traffic signs class.\n",
        "classes = { 1:'Speed limit (20km/h)',\n",
        "            2:'Speed limit (30km/h)', \n",
        "            3:'Speed limit (50km/h)', \n",
        "            4:'Speed limit (60km/h)', \n",
        "            5:'Speed limit (70km/h)', \n",
        "            6:'Speed limit (80km/h)', \n",
        "            7:'End of speed limit (80km/h)', \n",
        "            8:'Speed limit (100km/h)', \n",
        "            9:'Speed limit (120km/h)', \n",
        "            10:'No passing', \n",
        "            11:'No passing veh over 3.5 tons', \n",
        "            12:'Right-of-way at intersection', \n",
        "            13:'Priority road', \n",
        "            14:'Yield', \n",
        "            15:'Stop', \n",
        "            16:'No vehicles', \n",
        "            17:'Veh > 3.5 tons prohibited', \n",
        "            18:'No entry', \n",
        "            19:'General caution', \n",
        "            20:'Dangerous curve left', \n",
        "            21:'Dangerous curve right', \n",
        "            22:'Double curve', \n",
        "            23:'Bumpy road', \n",
        "            24:'Slippery road', \n",
        "            25:'Road narrows on the right', \n",
        "            26:'Road work', \n",
        "            27:'Traffic signals', \n",
        "            28:'Pedestrians', \n",
        "            29:'Children crossing', \n",
        "            30:'Bicycles crossing', \n",
        "            31:'Beware of ice/snow',\n",
        "            32:'Wild animals crossing', \n",
        "            33:'End speed + passing limits', \n",
        "            34:'Turn right ahead', \n",
        "            35:'Turn left ahead', \n",
        "            36:'Ahead only', \n",
        "            37:'Go straight or right', \n",
        "            38:'Go straight or left', \n",
        "            39:'Keep right', \n",
        "            40:'Keep left', \n",
        "            41:'Roundabout mandatory', \n",
        "            42:'End of no passing', \n",
        "            43:'End no passing veh > 3.5 tons',\n",
        "            44:'Dont Go straight or left',\n",
        "            45:'Dont Go straight or right',\n",
        "            46:'Dont Go straight',\n",
        "            47:'Dont Go Left',\n",
        "            48:'Dont Go Left or Right',\n",
        "            49:'Dont Go Right',\n",
        "            50:'Dont overtake from Left',\n",
        "            51:'No Uturn',\n",
        "            52:'No Car',\n",
        "            53:'No Horn',\n",
        "            54:'watch out for cars',\n",
        "            55:'Horn',\n",
        "            56:'Bicycles crossing',\n",
        "            57:'Uturn',\n",
        "            58:'Road Divider',\n",
        "            59:'Danger Ahead',\n",
        "            60:'Zebra Crossing',\n",
        "            61:'ZigZag Curve',\n",
        "            62:'Train Crossing',\n",
        "            63:'Fences',\n",
        "            64:'Heavy Vehicle Accidents',\n",
        "            65:'Give Way',\n",
        "            66:'No Stopping',\n",
        "            67:'Speed limit (5km/h)',\n",
        "            68:'Speed limit (15km/h)',\n",
        "            69:'Speed limit (40km/h)'}"
      ]
    },
    {
      "cell_type": "code",
      "execution_count": 4,
      "metadata": {},
      "outputs": [],
      "source": [
        "def classify(file_path):\n",
        "    image = Image.open(file_path)\n",
        "    image = image.resize((30,30))\n",
        "    image = np.expand_dims(image, axis=0)\n",
        "    image = np.array(image)\n",
        "    pred = model.predict(image)[0]\n",
        "    pred=np.argmax(pred,axis=0)\n",
        "    sign = classes[pred+1]\n",
        "    print(sign)"
      ]
    },
    {
      "cell_type": "code",
      "execution_count": 30,
      "metadata": {
        "id": "KfuOn3VCNXtb"
      },
      "outputs": [
        {
          "name": "stdout",
          "output_type": "stream",
          "text": [
            "1/1 [==============================] - 0s 46ms/step\n",
            "Speed limit (30km/h)\n"
          ]
        }
      ],
      "source": [
        "classify('D:\\\\TaiLieuKi7\\\\PBL - Copy\\\\anhtest\\\\30.png')"
      ]
    },
    {
      "cell_type": "code",
      "execution_count": null,
      "metadata": {},
      "outputs": [],
      "source": [
        "\n",
        "image = Image.open('D:\\\\TaiLieuKi7\\\\PBL\\\\anhtest\\\\go.png')\n",
        "image = image.resize((30,30))\n",
        "image = np.expand_dims(image, axis=0)\n",
        "image = np.array(image)\n",
        "pred = model.predict(image)[0]\n",
        "print(pred)\n",
        "pred=np.argmax(pred,axis=0)\n",
        "sign = classes[pred+1]\n",
        "#print(sign)"
      ]
    }
  ],
  "metadata": {
    "colab": {
      "provenance": []
    },
    "kernelspec": {
      "display_name": "Python 3.10.5 64-bit",
      "language": "python",
      "name": "python3"
    },
    "language_info": {
      "codemirror_mode": {
        "name": "ipython",
        "version": 3
      },
      "file_extension": ".py",
      "mimetype": "text/x-python",
      "name": "python",
      "nbconvert_exporter": "python",
      "pygments_lexer": "ipython3",
      "version": "3.10.5"
    },
    "vscode": {
      "interpreter": {
        "hash": "a42ccb73e7d9bfdf27e036f1d2b8b681e55fc0743cc5586bc2474d4a60f4b886"
      }
    }
  },
  "nbformat": 4,
  "nbformat_minor": 0
}
